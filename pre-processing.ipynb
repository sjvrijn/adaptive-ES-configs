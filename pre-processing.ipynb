{
 "cells": [
  {
   "cell_type": "markdown",
   "metadata": {},
   "source": [
    "# Adaptive CMA-ES configurations - Pre-processing\n",
    "\n",
    "This Python Notebook covers the pre-processing of data for the adaptive CMA-ES research.\n",
    "\n",
    "The input data consists of raw BBOB logging files (a few GB's).\n",
    "\n",
    "As output, we store a CSV with the required runtime in terms of evaluations to reach each specified target value for all runs, separated into files for each function/dimensionality pair.\n",
    "\n",
    "> Sander van Rijn<br>\n",
    "> s.j.van.rijn@liacs.leidenuniv.nl<br>\n",
    "> LIACS<br>\n",
    "> 2018-03-19"
   ]
  },
  {
   "cell_type": "code",
   "execution_count": 1,
   "metadata": {
    "ExecuteTime": {
     "end_time": "2018-03-27T13:06:15.708567Z",
     "start_time": "2018-03-27T13:06:15.429783Z"
    }
   },
   "outputs": [],
   "source": [
    "%matplotlib inline\n",
    "\n",
    "from __future__ import division, print_function\n",
    "\n",
    "import os\n",
    "import numpy as np\n",
    "import pandas as pd\n",
    "import matplotlib.pyplot as plt\n",
    "from itertools import product\n",
    "from collections import Counter"
   ]
  },
  {
   "cell_type": "code",
   "execution_count": 2,
   "metadata": {
    "ExecuteTime": {
     "end_time": "2018-03-27T13:06:15.717153Z",
     "start_time": "2018-03-27T13:06:15.709645Z"
    },
    "code_folding": [
     0
    ]
   },
   "outputs": [],
   "source": [
    "# Some utility functions for dealing with the representations\n",
    "\n",
    "# First, some hardcoded variables\n",
    "num_options_per_module = [2]*9        # Binary part\n",
    "num_options_per_module.extend([3]*2)  # Ternary part\n",
    "max_length = 11\n",
    "factors = [2304, 1152, 576, 288, 144, 72, 36, 18, 9, 3, 1]\n",
    "\n",
    "def list_all_representations():\n",
    "    \"\"\" Create a list of all possible representations for the modular CMA-ES.\n",
    "        Each representation is itself a list with <max_length> integer entries {0, 1, ..., n},\n",
    "        where 'n' is the number of options for the module in that position.\n",
    "    \"\"\"\n",
    "    products = []\n",
    "    # count how often there is a choice of x options\n",
    "    counts = Counter(num_options_per_module)\n",
    "    for num, count in sorted(counts.items(), key=lambda x: x[0]):\n",
    "        products.append(product(range(num), repeat=count))\n",
    "    all_representations = []\n",
    "    for representation in list(product(*products)):\n",
    "        all_representations.append(list(sum(representation, ())))\n",
    "    return all_representations\n",
    "\n",
    "\n",
    "def reprToString(representation):\n",
    "    \"\"\" Function that converts the structure parameters of a given ES-structure representation to a string\n",
    "\n",
    "        >>> reprToInt([0,0,0,0,0,1,0,1,0,1,0])\n",
    "        >>> '00000101010'\n",
    "    \"\"\"\n",
    "    return ''.join([str(i) for i in representation[:max_length]])"
   ]
  },
  {
   "cell_type": "code",
   "execution_count": 3,
   "metadata": {
    "ExecuteTime": {
     "end_time": "2018-03-27T13:06:15.739333Z",
     "start_time": "2018-03-27T13:06:15.718115Z"
    }
   },
   "outputs": [],
   "source": [
    "main_location = '/media/rijnsjvan/Data/SurfDrive/Research Data/Adaptive ES/'\n",
    "data_location = main_location + 'test_results/'\n",
    "output_location = main_location + 'anytime_convergence/data/'\n",
    "\n",
    "repetition_format = '-{rep:02d}'\n",
    "file_name = '{config}/{D}d-f{f}/data_f{f}/bbobexp{rep}_f{f}_DIM{D}.dat'\n",
    "\n",
    "instances = list(range(5))\n",
    "num_repetitions = 5\n",
    "ndims = [5, 20]\n",
    "fids = [1, 10, 15, 20]\n",
    "\n",
    "\n",
    "\n",
    "num_steps = 51\n",
    "exponents = np.round(np.linspace(2, -8, num_steps), decimals=1)\n",
    "target_values = np.power([10]*num_steps, exponents)\n",
    "\n",
    "all_configurations = list_all_representations()"
   ]
  },
  {
   "cell_type": "code",
   "execution_count": 4,
   "metadata": {
    "ExecuteTime": {
     "end_time": "2018-03-27T13:06:15.764206Z",
     "start_time": "2018-03-27T13:06:15.740404Z"
    },
    "code_folding": []
   },
   "outputs": [],
   "source": [
    "# A utility function for loading a full result file\n",
    "def loadfile(fname):\n",
    "    return np.genfromtxt(fname, delimiter=' ', skip_header=1, dtype=[np.int, np.float])\n",
    "\n",
    "\n",
    "def indexbasedToStepwise(data, max_budget):\n",
    "    \"\"\" Inflates the data to a full-length stepwise decreasing array: [5, 5, 5, 5, 2, 2, 2, 1, 1, 1, ...]\n",
    "    \"\"\"\n",
    "    indices, values = map(np.array, list(zip(*data)))\n",
    "    repetitions = np.append(indices[1:],[max_budget + 1]) - indices\n",
    "    \n",
    "    if repetitions[-1] < 0:\n",
    "        repetitions[-1] = 0\n",
    "    \n",
    "    return np.repeat(values, repetitions)[:max_budget]\n",
    "\n",
    "\n",
    "def indexbasedToLinear(data, max_budget):\n",
    "    \"\"\" Inflates the data to a full-length interpolated decreasing array: [5, 4.25, 3.5, 2.75, 2, 1.67, 1.33, 1, ...]\n",
    "    \"\"\"\n",
    "    indices, values = map(np.array, list(zip(*data)))\n",
    "    shifted_indices = np.append(indices[1:],[max_budget + 1])\n",
    "    \n",
    "    repetitions = shifted_indices - indices\n",
    "    \n",
    "    if repetitions[-1] < 0:\n",
    "        repetitions[-1] = 0\n",
    "    \n",
    "    interpolated = []\n",
    "    for start, end, reps in zip(values[:-1], values[1:], repetitions):\n",
    "        interpolation = np.linspace(start, end, reps, endpoint=False)\n",
    "        interpolated.append(interpolation)\n",
    "        \n",
    "    interpolated.append([values[-1]])\n",
    "    \n",
    "    return np.concatenate(interpolated)"
   ]
  },
  {
   "cell_type": "code",
   "execution_count": 5,
   "metadata": {
    "ExecuteTime": {
     "end_time": "2018-03-27T13:06:15.797661Z",
     "start_time": "2018-03-27T13:06:15.766832Z"
    },
    "code_folding": []
   },
   "outputs": [],
   "source": [
    "def determineTimesToTargets(data, targets):\n",
    "    \"\"\" Given the entire run-data of an algorithm, determine the required run-time in evaluations\n",
    "        for each algorithm to reach each of the specified targets.\n",
    "    \"\"\"\n",
    "    times_to_targets = np.array([np.NaN]*len(targets), dtype=np.float)\n",
    "    prev_idx = 0\n",
    "    for idx, target in enumerate(targets):\n",
    "        below_target = data < target\n",
    "        indices = np.argwhere(below_target)\n",
    "        if len(indices) > 0:\n",
    "            times_to_targets[idx] = np.min(indices)\n",
    "        else:\n",
    "            break\n",
    "    \n",
    "    return times_to_targets"
   ]
  },
  {
   "cell_type": "markdown",
   "metadata": {},
   "source": [
    "# Simplifying: loads of data to managable CSV's\n",
    "So far, this has all been basic setup stuff. Now we're going to actually summarize our data.\n",
    "\n",
    "Rather than working with the data of all complete runs, we will summarize to what we are actually interested in: the required number of evaluations for each algorithm to reach various targets during the optimization process."
   ]
  },
  {
   "cell_type": "code",
   "execution_count": 6,
   "metadata": {
    "ExecuteTime": {
     "end_time": "2018-03-27T13:06:15.819001Z",
     "start_time": "2018-03-27T13:06:15.799314Z"
    }
   },
   "outputs": [],
   "source": [
    "def createRuntimeRecord(representation, ndim, fid, iid, rep, *, budget_factor=1e4):\n",
    "    \"\"\" Create a single record: what are the required runtimes for all targets for \n",
    "        a given run: algorithm {representation} on {ndim}D f{fid}, instance {iid} repetition {rep}\n",
    "    \"\"\"\n",
    "    budget = int(ndim * budget_factor)\n",
    "    run_num = iid*num_repetitions + rep\n",
    "    if run_num == 0:\n",
    "        run_num = ''\n",
    "    else:\n",
    "        run_num = repetition_format.format(rep=run_num)\n",
    "\n",
    "    fname = file_name.format(config=reprToString(representation), f=fid, D=ndim, rep=run_num)\n",
    "    raw_data = loadfile(fname)\n",
    "    data = indexbasedToLinear(raw_data, budget)\n",
    "\n",
    "    runtimes = determineTimesToTargets(data, target_values)\n",
    "    return (representation, ndim, fid, iid, rep, *runtimes)\n",
    "\n",
    "# Labels for the records created by the function above to be used when loading the records into a pandas dataframe\n",
    "record_labels = [\n",
    "    'Representation', \n",
    "    'ndim', \n",
    "    'function ID', \n",
    "    'instance ID', \n",
    "    'repetition', \n",
    "    *('10e{}'.format(exponent) for exponent in exponents)\n",
    "]"
   ]
  },
  {
   "cell_type": "code",
   "execution_count": 7,
   "metadata": {
    "ExecuteTime": {
     "end_time": "2018-03-27T13:06:16.312500Z",
     "start_time": "2018-03-27T13:06:15.820257Z"
    }
   },
   "outputs": [
    {
     "name": "stdout",
     "output_type": "stream",
     "text": [
      "([0, 0, 0, 0, 0, 0, 0, 0, 0, 0, 0], 5, 1, 1, 1, 2.0, 5.0, 8.0, 10.0, 12.0, 213.0, 285.0, 338.0, 346.0, 351.0, 354.0, 356.0, 371.0, 404.0, 439.0, 443.0, 450.0, 486.0, 493.0, 496.0, 516.0, 528.0, 536.0, 541.0, 544.0, 640.0, 645.0, 651.0, 679.0, 685.0, 689.0, 699.0, 704.0, 720.0, 758.0, 775.0, 786.0, 807.0, 811.0, 828.0, 840.0, 851.0, 871.0, 878.0, 882.0, 884.0, 886.0, 887.0, 887.0, 887.0, 961.0)\n"
     ]
    }
   ],
   "source": [
    "os.chdir(data_location)\n",
    "record = createRuntimeRecord(list_all_representations()[0], 5, 1, 1, 1)\n",
    "print(record)"
   ]
  },
  {
   "cell_type": "code",
   "execution_count": 8,
   "metadata": {
    "ExecuteTime": {
     "end_time": "2018-03-27T13:06:16.331288Z",
     "start_time": "2018-03-27T13:06:16.313524Z"
    },
    "code_folding": [
     0
    ]
   },
   "outputs": [],
   "source": [
    "# defining a progress bar (https://github.com/alexanderkuk/log-progress)\n",
    "def log_progress(sequence, every=None, size=None, name='Items'):\n",
    "    from ipywidgets import IntProgress, HTML, VBox\n",
    "    from IPython.display import display\n",
    "\n",
    "    is_iterator = False\n",
    "    if size is None:\n",
    "        try:\n",
    "            size = len(sequence)\n",
    "        except TypeError:\n",
    "            is_iterator = True\n",
    "    if size is not None:\n",
    "        if every is None:\n",
    "            if size <= 200:\n",
    "                every = 1\n",
    "            else:\n",
    "                every = int(size / 200)     # every 0.5%\n",
    "    else:\n",
    "        assert every is not None, 'sequence is iterator, set every'\n",
    "\n",
    "    if is_iterator:\n",
    "        progress = IntProgress(min=0, max=1, value=1)\n",
    "        progress.bar_style = 'info'\n",
    "    else:\n",
    "        progress = IntProgress(min=0, max=size, value=0)\n",
    "    label = HTML()\n",
    "    box = VBox(children=[label, progress])\n",
    "    display(box)\n",
    "\n",
    "    index = 0\n",
    "    try:\n",
    "        for index, record in enumerate(sequence, 1):\n",
    "            if index == 1 or index % every == 0:\n",
    "                if is_iterator:\n",
    "                    label.value = '{name}: {index} / ?'.format(\n",
    "                        name=name,\n",
    "                        index=index\n",
    "                    )\n",
    "                else:\n",
    "                    progress.value = index\n",
    "                    label.value = u'{name}: {index} / {size}'.format(\n",
    "                        name=name,\n",
    "                        index=index,\n",
    "                        size=size\n",
    "                    )\n",
    "            yield record\n",
    "    except:\n",
    "        progress.bar_style = 'danger'\n",
    "        raise\n",
    "    else:\n",
    "        progress.bar_style = 'success'\n",
    "        progress.value = index\n",
    "        label.value = \"{name}: {index}\".format(\n",
    "            name=name,\n",
    "            index=str(index or '?')\n",
    "        )"
   ]
  },
  {
   "cell_type": "markdown",
   "metadata": {},
   "source": [
    "** WARNING **\n",
    "\n",
    "The following block of code does the heavy lifting. It is parallelized into one thread per ndim/fid combination. In a single thread it takes 30-60 seconds for every 1.000 records to create.\n",
    "\n",
    "Runtime duration on i7-6700 CPU @ 3.40GHz (4-core, 8-threads), parallelized for 8 experiments: 2-3 hours (900.000 records).\n",
    "\n",
    "_ You have been warned... _"
   ]
  },
  {
   "cell_type": "code",
   "execution_count": 9,
   "metadata": {
    "ExecuteTime": {
     "end_time": "2018-03-19T16:31:17.544710Z",
     "start_time": "2018-03-19T16:31:17.317443Z"
    }
   },
   "outputs": [
    {
     "name": "stdout",
     "output_type": "stream",
     "text": [
      "Found 921600 cases to process. This may take a while...\n",
      "Starting job # 0 in a separate thread.\n",
      "Starting job # 2 in a separate thread.\n",
      "Starting job # 3 in a separate thread.\n",
      "Starting job # 4 in a separate thread.\n",
      "Starting job # 5 in a separate thread.\n",
      "Starting job # 6 in a separate thread.\n",
      "Starting job # 7 in a separate thread.\n",
      "Starting job # 8 in a separate thread.\n"
     ]
    },
    {
     "data": {
      "application/vnd.jupyter.widget-view+json": {
       "model_id": "be8cd4e352cb4338811aec3bcb7ff49b",
       "version_major": 2,
       "version_minor": 0
      },
      "text/html": [
       "<p>Failed to display Jupyter Widget of type <code>VBox</code>.</p>\n",
       "<p>\n",
       "  If you're reading this message in the Jupyter Notebook or JupyterLab Notebook, it may mean\n",
       "  that the widgets JavaScript is still loading. If this message persists, it\n",
       "  likely means that the widgets JavaScript library is either not installed or\n",
       "  not enabled. See the <a href=\"https://ipywidgets.readthedocs.io/en/stable/user_install.html\">Jupyter\n",
       "  Widgets Documentation</a> for setup instructions.\n",
       "</p>\n",
       "<p>\n",
       "  If you're reading this message in another frontend (for example, a static\n",
       "  rendering on GitHub or <a href=\"https://nbviewer.jupyter.org/\">NBViewer</a>),\n",
       "  it may mean that your frontend doesn't currently support widgets.\n",
       "</p>\n"
      ],
      "text/plain": [
       "VBox(children=(HTML(value=''), IntProgress(value=0, max=115200)))"
      ]
     },
     "metadata": {},
     "output_type": "display_data"
    },
    {
     "data": {
      "application/vnd.jupyter.widget-view+json": {
       "model_id": "4c0cafdba12943e08376878f7ad9e5fe",
       "version_major": 2,
       "version_minor": 0
      },
      "text/html": [
       "<p>Failed to display Jupyter Widget of type <code>VBox</code>.</p>\n",
       "<p>\n",
       "  If you're reading this message in the Jupyter Notebook or JupyterLab Notebook, it may mean\n",
       "  that the widgets JavaScript is still loading. If this message persists, it\n",
       "  likely means that the widgets JavaScript library is either not installed or\n",
       "  not enabled. See the <a href=\"https://ipywidgets.readthedocs.io/en/stable/user_install.html\">Jupyter\n",
       "  Widgets Documentation</a> for setup instructions.\n",
       "</p>\n",
       "<p>\n",
       "  If you're reading this message in another frontend (for example, a static\n",
       "  rendering on GitHub or <a href=\"https://nbviewer.jupyter.org/\">NBViewer</a>),\n",
       "  it may mean that your frontend doesn't currently support widgets.\n",
       "</p>\n"
      ],
      "text/plain": [
       "VBox(children=(HTML(value=''), IntProgress(value=0, max=115200)))"
      ]
     },
     "metadata": {},
     "output_type": "display_data"
    },
    {
     "data": {
      "application/vnd.jupyter.widget-view+json": {
       "model_id": "c73b48a8bd264ea09d1bbed12e00e4d7",
       "version_major": 2,
       "version_minor": 0
      },
      "text/html": [
       "<p>Failed to display Jupyter Widget of type <code>VBox</code>.</p>\n",
       "<p>\n",
       "  If you're reading this message in the Jupyter Notebook or JupyterLab Notebook, it may mean\n",
       "  that the widgets JavaScript is still loading. If this message persists, it\n",
       "  likely means that the widgets JavaScript library is either not installed or\n",
       "  not enabled. See the <a href=\"https://ipywidgets.readthedocs.io/en/stable/user_install.html\">Jupyter\n",
       "  Widgets Documentation</a> for setup instructions.\n",
       "</p>\n",
       "<p>\n",
       "  If you're reading this message in another frontend (for example, a static\n",
       "  rendering on GitHub or <a href=\"https://nbviewer.jupyter.org/\">NBViewer</a>),\n",
       "  it may mean that your frontend doesn't currently support widgets.\n",
       "</p>\n"
      ],
      "text/plain": [
       "VBox(children=(HTML(value=''), IntProgress(value=0, max=115200)))"
      ]
     },
     "metadata": {},
     "output_type": "display_data"
    },
    {
     "data": {
      "application/vnd.jupyter.widget-view+json": {
       "model_id": "8ac1a3f1d2c34a5b8a3afa2e7d18af96",
       "version_major": 2,
       "version_minor": 0
      },
      "text/html": [
       "<p>Failed to display Jupyter Widget of type <code>VBox</code>.</p>\n",
       "<p>\n",
       "  If you're reading this message in the Jupyter Notebook or JupyterLab Notebook, it may mean\n",
       "  that the widgets JavaScript is still loading. If this message persists, it\n",
       "  likely means that the widgets JavaScript library is either not installed or\n",
       "  not enabled. See the <a href=\"https://ipywidgets.readthedocs.io/en/stable/user_install.html\">Jupyter\n",
       "  Widgets Documentation</a> for setup instructions.\n",
       "</p>\n",
       "<p>\n",
       "  If you're reading this message in another frontend (for example, a static\n",
       "  rendering on GitHub or <a href=\"https://nbviewer.jupyter.org/\">NBViewer</a>),\n",
       "  it may mean that your frontend doesn't currently support widgets.\n",
       "</p>\n"
      ],
      "text/plain": [
       "VBox(children=(HTML(value=''), IntProgress(value=0, max=115200)))"
      ]
     },
     "metadata": {},
     "output_type": "display_data"
    },
    {
     "data": {
      "application/vnd.jupyter.widget-view+json": {
       "model_id": "1effdb8fb9754057a7e8c4843803eae7",
       "version_major": 2,
       "version_minor": 0
      },
      "text/html": [
       "<p>Failed to display Jupyter Widget of type <code>VBox</code>.</p>\n",
       "<p>\n",
       "  If you're reading this message in the Jupyter Notebook or JupyterLab Notebook, it may mean\n",
       "  that the widgets JavaScript is still loading. If this message persists, it\n",
       "  likely means that the widgets JavaScript library is either not installed or\n",
       "  not enabled. See the <a href=\"https://ipywidgets.readthedocs.io/en/stable/user_install.html\">Jupyter\n",
       "  Widgets Documentation</a> for setup instructions.\n",
       "</p>\n",
       "<p>\n",
       "  If you're reading this message in another frontend (for example, a static\n",
       "  rendering on GitHub or <a href=\"https://nbviewer.jupyter.org/\">NBViewer</a>),\n",
       "  it may mean that your frontend doesn't currently support widgets.\n",
       "</p>\n"
      ],
      "text/plain": [
       "VBox(children=(HTML(value=''), IntProgress(value=0, max=115200)))"
      ]
     },
     "metadata": {},
     "output_type": "display_data"
    },
    {
     "data": {
      "application/vnd.jupyter.widget-view+json": {
       "model_id": "0e9f2765f74e42edb999326caca9d897",
       "version_major": 2,
       "version_minor": 0
      },
      "text/html": [
       "<p>Failed to display Jupyter Widget of type <code>VBox</code>.</p>\n",
       "<p>\n",
       "  If you're reading this message in the Jupyter Notebook or JupyterLab Notebook, it may mean\n",
       "  that the widgets JavaScript is still loading. If this message persists, it\n",
       "  likely means that the widgets JavaScript library is either not installed or\n",
       "  not enabled. See the <a href=\"https://ipywidgets.readthedocs.io/en/stable/user_install.html\">Jupyter\n",
       "  Widgets Documentation</a> for setup instructions.\n",
       "</p>\n",
       "<p>\n",
       "  If you're reading this message in another frontend (for example, a static\n",
       "  rendering on GitHub or <a href=\"https://nbviewer.jupyter.org/\">NBViewer</a>),\n",
       "  it may mean that your frontend doesn't currently support widgets.\n",
       "</p>\n"
      ],
      "text/plain": [
       "VBox(children=(HTML(value=''), IntProgress(value=0, max=115200)))"
      ]
     },
     "metadata": {},
     "output_type": "display_data"
    },
    {
     "data": {
      "application/vnd.jupyter.widget-view+json": {
       "model_id": "23f36f91809e42508c6a90b1514a17e6",
       "version_major": 2,
       "version_minor": 0
      },
      "text/html": [
       "<p>Failed to display Jupyter Widget of type <code>VBox</code>.</p>\n",
       "<p>\n",
       "  If you're reading this message in the Jupyter Notebook or JupyterLab Notebook, it may mean\n",
       "  that the widgets JavaScript is still loading. If this message persists, it\n",
       "  likely means that the widgets JavaScript library is either not installed or\n",
       "  not enabled. See the <a href=\"https://ipywidgets.readthedocs.io/en/stable/user_install.html\">Jupyter\n",
       "  Widgets Documentation</a> for setup instructions.\n",
       "</p>\n",
       "<p>\n",
       "  If you're reading this message in another frontend (for example, a static\n",
       "  rendering on GitHub or <a href=\"https://nbviewer.jupyter.org/\">NBViewer</a>),\n",
       "  it may mean that your frontend doesn't currently support widgets.\n",
       "</p>\n"
      ],
      "text/plain": [
       "VBox(children=(HTML(value=''), IntProgress(value=0, max=115200)))"
      ]
     },
     "metadata": {},
     "output_type": "display_data"
    },
    {
     "data": {
      "application/vnd.jupyter.widget-view+json": {
       "model_id": "b8b5387aa9934c998b3607b3053a0646",
       "version_major": 2,
       "version_minor": 0
      },
      "text/html": [
       "<p>Failed to display Jupyter Widget of type <code>VBox</code>.</p>\n",
       "<p>\n",
       "  If you're reading this message in the Jupyter Notebook or JupyterLab Notebook, it may mean\n",
       "  that the widgets JavaScript is still loading. If this message persists, it\n",
       "  likely means that the widgets JavaScript library is either not installed or\n",
       "  not enabled. See the <a href=\"https://ipywidgets.readthedocs.io/en/stable/user_install.html\">Jupyter\n",
       "  Widgets Documentation</a> for setup instructions.\n",
       "</p>\n",
       "<p>\n",
       "  If you're reading this message in another frontend (for example, a static\n",
       "  rendering on GitHub or <a href=\"https://nbviewer.jupyter.org/\">NBViewer</a>),\n",
       "  it may mean that your frontend doesn't currently support widgets.\n",
       "</p>\n"
      ],
      "text/plain": [
       "VBox(children=(HTML(value=''), IntProgress(value=0, max=115200)))"
      ]
     },
     "metadata": {},
     "output_type": "display_data"
    }
   ],
   "source": [
    "def createsummarycsv(ndim, fid, cases):\n",
    "    all_records = []\n",
    "    for configuration, iid, rep in log_progress(cases, every=100, name='{}D F{}'.format(ndim, fid)):\n",
    "        try:\n",
    "            record = createRuntimeRecord(configuration, ndim, fid, iid, rep)\n",
    "            all_records.append(record)\n",
    "        except FileNotFoundError:\n",
    "            pass\n",
    "        except OSError:\n",
    "            pass\n",
    "\n",
    "    df = pd.DataFrame.from_records(all_records, columns=record_labels)\n",
    "    df.to_csv(output_location + 'interpolated_ART_data_{}D-f{}.csv'.format(ndim, fid))\n",
    "\n",
    "\n",
    "os.chdir(data_location)\n",
    "\n",
    "cases = list(product(all_configurations, instances, list(range(num_repetitions))))\n",
    "num_cases = len(all_configurations)*len(ndims)*len(fids)*len(instances)*num_repetitions\n",
    "print('Found {} cases to process. This may take a while...'.format(num_cases))\n",
    "\n",
    "# Parallel execution\n",
    "from IPython.lib import backgroundjobs as bg\n",
    "jobs = bg.BackgroundJobManager()\n",
    "for ndim, fid in product(ndims, fids):\n",
    "    jobs.new(createsummarycsv, ndim, fid, cases)"
   ]
  },
  {
   "cell_type": "markdown",
   "metadata": {},
   "source": [
    "And we're done. Now we have the pre-processed CSV files to work with instead, which we will do in another Notebook for clarity's sake.\n",
    "\n",
    "Of course, if the data in the CSVs has to be changed, this script has to be run again."
   ]
  },
  {
   "cell_type": "markdown",
   "metadata": {},
   "source": [
    "# Aggregating\n",
    "\n",
    "Now we have summarized the data, we can clean it up further by using the bootstrapping procedure as described in https://arxiv.org/abs/1605.03560."
   ]
  },
  {
   "cell_type": "code",
   "execution_count": 24,
   "metadata": {
    "ExecuteTime": {
     "end_time": "2018-03-27T13:40:27.206652Z",
     "start_time": "2018-03-27T13:40:27.202172Z"
    }
   },
   "outputs": [],
   "source": [
    "# output_fname = 'steepness_data_{}D-f{}.csv'\n",
    "output_fname = 'interpolated_ART_data_{}D-f{}.csv'\n",
    "\n",
    "def get_data(ndim, fid):\n",
    "    return pd.read_csv(output_location + output_fname.format(ndim, fid), index_col=0)"
   ]
  },
  {
   "cell_type": "markdown",
   "metadata": {},
   "source": [
    "## ERT\n",
    "\n",
    "As it requires no further simulation, we create aggregations based on the ERT first"
   ]
  },
  {
   "cell_type": "code",
   "execution_count": 27,
   "metadata": {
    "ExecuteTime": {
     "end_time": "2018-03-27T23:32:15.030487Z",
     "start_time": "2018-03-27T23:32:15.024377Z"
    }
   },
   "outputs": [],
   "source": [
    "def aggregateByERT(df, max_budget):\n",
    "    df = df.drop(columns=['instance ID', 'repetition'])\n",
    "\n",
    "    sums = df.fillna(max_budget).groupby(by=['Representation', 'ndim', 'function ID']).sum()\n",
    "    counts = df.groupby(by=['Representation', 'ndim', 'function ID']).count()\n",
    "\n",
    "    ERTs = sums/counts\n",
    "    ERTs = ERTs.replace(np.inf, np.NaN).reset_index()\n",
    "    return ERTs\n",
    "\n",
    "\n",
    "# df = get_data(5, 1)\n",
    "# new_df = aggregateByERT(df, 5*10e4)\n",
    "# print(new_df)\n",
    "# print(new_df.shape)"
   ]
  },
  {
   "cell_type": "code",
   "execution_count": 29,
   "metadata": {
    "ExecuteTime": {
     "end_time": "2018-03-27T23:35:29.607230Z",
     "start_time": "2018-03-27T23:35:24.592387Z"
    }
   },
   "outputs": [],
   "source": [
    "for ndim, fid in product(ndims, fids):\n",
    "    df = get_data(ndim=ndim, fid=fid)\n",
    "    df = aggregateByERT(df, ndim*10e4)\n",
    "    df.to_csv(output_location + 'ERT_data_{}D-f{}.csv'.format(ndim, fid))\n",
    "#     df.to_csv(output_location + 'stepwise_ERT_data_{}D-f{}.csv'.format(ndim, fid))"
   ]
  },
  {
   "cell_type": "markdown",
   "metadata": {},
   "source": [
    "## Bootstrapping aRT\n",
    "\n",
    "Now for the slightly more difficult/time consuming option: actual bootstrapping the aRT"
   ]
  },
  {
   "cell_type": "code",
   "execution_count": null,
   "metadata": {},
   "outputs": [],
   "source": [
    "num_samples = 100\n",
    "\n",
    "def bootstrapART(df, max_budget):\n",
    "    df = df.drop(columns=['instance ID', 'repetition'])\n",
    "    pass\n",
    "    #TODO: implement bootstrapping\n",
    "#     sums = df.fillna(max_budget).groupby(by=['Representation', 'ndim', 'function ID']).sum()\n",
    "#     counts = df.groupby(by=['Representation', 'ndim', 'function ID']).count()\n",
    "\n",
    "#     ERTs = sums/counts\n",
    "#     ERTs = ERTs.reset_index()\n",
    "#     return ERTs"
   ]
  }
 ],
 "metadata": {
  "kernelspec": {
   "display_name": "Python 2",
   "language": "python",
   "name": "python2"
  },
  "language_info": {
   "codemirror_mode": {
    "name": "ipython",
    "version": 3
   },
   "file_extension": ".py",
   "mimetype": "text/x-python",
   "name": "python",
   "nbconvert_exporter": "python",
   "pygments_lexer": "ipython3",
   "version": "3.6.3"
  },
  "toc": {
   "nav_menu": {},
   "number_sections": true,
   "sideBar": true,
   "skip_h1_title": false,
   "toc_cell": false,
   "toc_position": {},
   "toc_section_display": "block",
   "toc_window_display": false
  }
 },
 "nbformat": 4,
 "nbformat_minor": 1
}
