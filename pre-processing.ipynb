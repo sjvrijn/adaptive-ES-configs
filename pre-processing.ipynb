{
 "cells": [
  {
   "cell_type": "markdown",
   "metadata": {},
   "source": [
    "# Adaptive CMA-ES configurations - Pre-processing\n",
    "\n",
    "This Python Notebook covers the pre-processing of data for the adaptive CMA-ES research.\n",
    "\n",
    "The input data consists of raw **BBOB** logging files (a few GB's).\n",
    "\n",
    "As output, we store a CSV with the _steepnesses_ of each pre-specified 'section' for all runs, separated into files for each function/dimensionality pair.\n",
    "\n",
    "> Sander van Rijn<br>\n",
    "> s.j.van.rijn@liacs.leidenuniv.nl<br>\n",
    "> LIACS<br>\n",
    "> 2018-02-28"
   ]
  },
  {
   "cell_type": "code",
   "execution_count": 1,
   "metadata": {
    "ExecuteTime": {
     "end_time": "2018-03-15T16:01:10.888483Z",
     "start_time": "2018-03-15T16:01:10.616731Z"
    }
   },
   "outputs": [],
   "source": [
    "%matplotlib inline\n",
    "\n",
    "from __future__ import division, print_function\n",
    "\n",
    "import os\n",
    "import numpy as np\n",
    "import pandas as pd\n",
    "import matplotlib.pyplot as plt\n",
    "from itertools import product\n",
    "from collections import Counter"
   ]
  },
  {
   "cell_type": "code",
   "execution_count": 2,
   "metadata": {
    "ExecuteTime": {
     "end_time": "2018-03-15T16:01:10.906487Z",
     "start_time": "2018-03-15T16:01:10.891490Z"
    },
    "code_folding": [
     0
    ]
   },
   "outputs": [],
   "source": [
    "# Some utility functions for dealing with the representations\n",
    "\n",
    "# First, some hardcoded variables\n",
    "num_options_per_module = [2]*9        # Binary part\n",
    "num_options_per_module.extend([3]*2)  # Ternary part\n",
    "max_length = 11\n",
    "factors = [2304, 1152, 576, 288, 144, 72, 36, 18, 9, 3, 1]\n",
    "\n",
    "def list_all_representations():\n",
    "    \"\"\" Create a list of all possible representations for the modular CMA-ES.\n",
    "        Each representation is itself a list with <max_length> integer entries {0, 1, ..., n},\n",
    "        where 'n' is the number of options for the module in that position.\n",
    "    \"\"\"\n",
    "    products = []\n",
    "    # count how often there is a choice of x options\n",
    "    counts = Counter(num_options_per_module)\n",
    "    for num, count in sorted(counts.items(), key=lambda x: x[0]):\n",
    "        products.append(product(range(num), repeat=count))\n",
    "    all_representations = []\n",
    "    for representation in list(product(*products)):\n",
    "        all_representations.append(list(sum(representation, ())))\n",
    "    return all_representations\n",
    "\n",
    "\n",
    "def reprToString(representation):\n",
    "    \"\"\" Function that converts the structure parameters of a given ES-structure representation to a string\n",
    "\n",
    "        >>> reprToInt([0,0,0,0,0,1,0,1,0,1,0])\n",
    "        >>> '00000101010'\n",
    "    \"\"\"\n",
    "    return ''.join([str(i) for i in representation[:max_length]])"
   ]
  },
  {
   "cell_type": "code",
   "execution_count": 3,
   "metadata": {
    "ExecuteTime": {
     "end_time": "2018-03-15T16:01:10.928739Z",
     "start_time": "2018-03-15T16:01:10.908015Z"
    }
   },
   "outputs": [],
   "source": [
    "data_location = '/media/rijnsjvan/Data/SurfDrive/Research Data/Adaptive ES/test_results/'\n",
    "repetition_format = '-{rep:02d}'\n",
    "file_name = '{config}/{D}d-f{f}/data_f{f}/bbobexp{rep}_f{f}_DIM{D}.dat'\n",
    "\n",
    "instances = list(range(5))\n",
    "num_repetitions = 5\n",
    "ndims = [5, 20]\n",
    "fids = [1, 10, 15, 20]\n",
    "\n",
    "num_steps = 51\n",
    "powers = np.linspace(2, -8, num_steps)\n",
    "target_values = np.power([10]*num_steps, powers)\n",
    "\n",
    "all_configurations = list_all_representations()"
   ]
  },
  {
   "cell_type": "code",
   "execution_count": 4,
   "metadata": {
    "ExecuteTime": {
     "end_time": "2018-03-15T16:01:10.946895Z",
     "start_time": "2018-03-15T16:01:10.930122Z"
    },
    "code_folding": []
   },
   "outputs": [],
   "source": [
    "# A utility function for loading a full result file\n",
    "def loadfile(fname, max_budget):\n",
    "    \"\"\" Load a file\n",
    "        :param fname:       The name of the file to retrieve the data from\n",
    "        :param max_budget:  Maximum available budget for this optimization run\n",
    "        :return:            Data from the given file as numpy float array\n",
    "    \"\"\"\n",
    "\n",
    "    data = np.genfromtxt(fname, delimiter=' ', skip_header=1, dtype=[np.int, np.float])\n",
    "    indices, values = map(np.array, list(zip(*data)))\n",
    "    repetitions = np.append(indices[1:],[max_budget + 1]) - indices\n",
    "    \n",
    "    if repetitions[-1] < 0:\n",
    "        repetitions[-1] = 0\n",
    "    \n",
    "    fitnesses = np.repeat(values, repetitions)[:max_budget]\n",
    "        \n",
    "    return fitnesses"
   ]
  },
  {
   "cell_type": "code",
   "execution_count": 5,
   "metadata": {
    "ExecuteTime": {
     "end_time": "2018-03-15T16:01:10.965272Z",
     "start_time": "2018-03-15T16:01:10.948011Z"
    },
    "code_folding": []
   },
   "outputs": [],
   "source": [
    "def determineTimesToTargets(data, targets):\n",
    "    \"\"\" Given the entire run-data of an algorithm, calculate the runtimes in evaluations\n",
    "        of the algorithm performance during each section.\n",
    "    \"\"\"\n",
    "    times_to_targets = np.array([0]*len(targets), dtype=np.float)\n",
    "    prev_idx = 0\n",
    "    for idx, target in enumerate(targets):\n",
    "        below_target = data < target\n",
    "        indices = np.argwhere(below_target)\n",
    "        if len(indices) > 0:\n",
    "            times_to_targets[idx] = np.min(indices)\n",
    "        else:\n",
    "            break\n",
    "    \n",
    "    return times_to_targets"
   ]
  },
  {
   "cell_type": "markdown",
   "metadata": {},
   "source": [
    "# Simplifying: loads of data to managable CSV's\n",
    "So far, this has all been basic setup stuff. Now we're going to actually simplify our data.\n",
    "\n",
    "Rather than working with the data of all complete runs, we will summarize to what we are actually interested in: the performance gradients/convergence speeds of each algorithm at various points during the optimization process (terminology not yet final)"
   ]
  },
  {
   "cell_type": "code",
   "execution_count": 6,
   "metadata": {
    "ExecuteTime": {
     "end_time": "2018-03-15T16:01:10.984948Z",
     "start_time": "2018-03-15T16:01:10.966431Z"
    }
   },
   "outputs": [],
   "source": [
    "def createSteepnessRecord(representation, ndim, fid, iid, rep, *, budget_factor=1e4):\n",
    "    \"\"\" Create a single record: what are the steepnesses for all sections for \n",
    "        a given run: algorithm {representation} on {ndim}D f{fid}, instance {iid} repetition {rep}\n",
    "    \"\"\"\n",
    "    budget = int(ndim * budget_factor)\n",
    "    run_num = iid*num_repetitions + rep\n",
    "    if run_num == 0:\n",
    "        run_num = ''\n",
    "    else:\n",
    "        run_num = repetition_format.format(rep=run_num)\n",
    "\n",
    "    fname = file_name.format(config=reprToString(representation), f=fid, D=ndim, rep=run_num)\n",
    "    \n",
    "    data = loadfile(fname, budget)\n",
    "    # steepnesses = determine_steepnesses(data, steepness_sections)\n",
    "    steepnesses = determineTimesToTargets(data, target_values)\n",
    "    return (representation, ndim, fid, iid, rep, *steepnesses)\n",
    "\n",
    "# Labels for the records created by the function above to be used when loading the records into a pandas dataframe\n",
    "record_labels = [\n",
    "    'Representation', \n",
    "    'ndim', \n",
    "    'function ID', \n",
    "    'instance ID', \n",
    "    'repetition', \n",
    "    *(str(sec) for sec in target_values)\n",
    "]"
   ]
  },
  {
   "cell_type": "code",
   "execution_count": 7,
   "metadata": {
    "ExecuteTime": {
     "end_time": "2018-03-15T16:01:11.010505Z",
     "start_time": "2018-03-15T16:01:10.986338Z"
    },
    "code_folding": [
     0
    ]
   },
   "outputs": [],
   "source": [
    "# defining a progress bar (https://github.com/alexanderkuk/log-progress)\n",
    "def log_progress(sequence, every=None, size=None, name='Items'):\n",
    "    from ipywidgets import IntProgress, HTML, VBox\n",
    "    from IPython.display import display\n",
    "\n",
    "    is_iterator = False\n",
    "    if size is None:\n",
    "        try:\n",
    "            size = len(sequence)\n",
    "        except TypeError:\n",
    "            is_iterator = True\n",
    "    if size is not None:\n",
    "        if every is None:\n",
    "            if size <= 200:\n",
    "                every = 1\n",
    "            else:\n",
    "                every = int(size / 200)     # every 0.5%\n",
    "    else:\n",
    "        assert every is not None, 'sequence is iterator, set every'\n",
    "\n",
    "    if is_iterator:\n",
    "        progress = IntProgress(min=0, max=1, value=1)\n",
    "        progress.bar_style = 'info'\n",
    "    else:\n",
    "        progress = IntProgress(min=0, max=size, value=0)\n",
    "    label = HTML()\n",
    "    box = VBox(children=[label, progress])\n",
    "    display(box)\n",
    "\n",
    "    index = 0\n",
    "    try:\n",
    "        for index, record in enumerate(sequence, 1):\n",
    "            if index == 1 or index % every == 0:\n",
    "                if is_iterator:\n",
    "                    label.value = '{name}: {index} / ?'.format(\n",
    "                        name=name,\n",
    "                        index=index\n",
    "                    )\n",
    "                else:\n",
    "                    progress.value = index\n",
    "                    label.value = u'{name}: {index} / {size}'.format(\n",
    "                        name=name,\n",
    "                        index=index,\n",
    "                        size=size\n",
    "                    )\n",
    "            yield record\n",
    "    except:\n",
    "        progress.bar_style = 'danger'\n",
    "        raise\n",
    "    else:\n",
    "        progress.bar_style = 'success'\n",
    "        progress.value = index\n",
    "        label.value = \"{name}: {index}\".format(\n",
    "            name=name,\n",
    "            index=str(index or '?')\n",
    "        )"
   ]
  },
  {
   "cell_type": "markdown",
   "metadata": {},
   "source": [
    "** WARNING **\n",
    "\n",
    "The following block of code does the heavy lifting. It is not parallelized and easily 30-60 seconds for every 1.000 records to create. For the ~900.000 records that were created in the first run of this code, it took 7:40 hours.\n",
    "\n",
    "_ You have been warned... _"
   ]
  },
  {
   "cell_type": "code",
   "execution_count": 8,
   "metadata": {
    "ExecuteTime": {
     "end_time": "2018-03-15T16:01:11.195196Z",
     "start_time": "2018-03-15T16:01:11.011555Z"
    }
   },
   "outputs": [
    {
     "name": "stdout",
     "output_type": "stream",
     "text": [
      "Found 921600 cases to process. This may take a while...\n",
      "Starting job # 0 in a separate thread.\n",
      "Starting job # 2 in a separate thread.\n",
      "Starting job # 3 in a separate thread.\n",
      "Starting job # 4 in a separate thread.\n",
      "Starting job # 5 in a separate thread.\n"
     ]
    },
    {
     "data": {
      "application/vnd.jupyter.widget-view+json": {
       "model_id": "f6c6d5a1239f4fa4b7a3dea715b2275d",
       "version_major": 2,
       "version_minor": 0
      },
      "text/html": [
       "<p>Failed to display Jupyter Widget of type <code>VBox</code>.</p>\n",
       "<p>\n",
       "  If you're reading this message in the Jupyter Notebook or JupyterLab Notebook, it may mean\n",
       "  that the widgets JavaScript is still loading. If this message persists, it\n",
       "  likely means that the widgets JavaScript library is either not installed or\n",
       "  not enabled. See the <a href=\"https://ipywidgets.readthedocs.io/en/stable/user_install.html\">Jupyter\n",
       "  Widgets Documentation</a> for setup instructions.\n",
       "</p>\n",
       "<p>\n",
       "  If you're reading this message in another frontend (for example, a static\n",
       "  rendering on GitHub or <a href=\"https://nbviewer.jupyter.org/\">NBViewer</a>),\n",
       "  it may mean that your frontend doesn't currently support widgets.\n",
       "</p>\n"
      ],
      "text/plain": [
       "VBox(children=(HTML(value=''), IntProgress(value=0, max=115200)))"
      ]
     },
     "metadata": {},
     "output_type": "display_data"
    },
    {
     "name": "stdout",
     "output_type": "stream",
     "text": [
      "Starting job # 6 in a separate thread.\n",
      "Starting job # 7 in a separate thread.\n",
      "Starting job # 8 in a separate thread.\n"
     ]
    },
    {
     "data": {
      "application/vnd.jupyter.widget-view+json": {
       "model_id": "e80181da5e144a138796075171e4f92b",
       "version_major": 2,
       "version_minor": 0
      },
      "text/html": [
       "<p>Failed to display Jupyter Widget of type <code>VBox</code>.</p>\n",
       "<p>\n",
       "  If you're reading this message in the Jupyter Notebook or JupyterLab Notebook, it may mean\n",
       "  that the widgets JavaScript is still loading. If this message persists, it\n",
       "  likely means that the widgets JavaScript library is either not installed or\n",
       "  not enabled. See the <a href=\"https://ipywidgets.readthedocs.io/en/stable/user_install.html\">Jupyter\n",
       "  Widgets Documentation</a> for setup instructions.\n",
       "</p>\n",
       "<p>\n",
       "  If you're reading this message in another frontend (for example, a static\n",
       "  rendering on GitHub or <a href=\"https://nbviewer.jupyter.org/\">NBViewer</a>),\n",
       "  it may mean that your frontend doesn't currently support widgets.\n",
       "</p>\n"
      ],
      "text/plain": [
       "VBox(children=(HTML(value=''), IntProgress(value=0, max=115200)))"
      ]
     },
     "metadata": {},
     "output_type": "display_data"
    },
    {
     "data": {
      "application/vnd.jupyter.widget-view+json": {
       "model_id": "c1eb4d9fd18d4fc0a7f30bcb698663c2",
       "version_major": 2,
       "version_minor": 0
      },
      "text/html": [
       "<p>Failed to display Jupyter Widget of type <code>VBox</code>.</p>\n",
       "<p>\n",
       "  If you're reading this message in the Jupyter Notebook or JupyterLab Notebook, it may mean\n",
       "  that the widgets JavaScript is still loading. If this message persists, it\n",
       "  likely means that the widgets JavaScript library is either not installed or\n",
       "  not enabled. See the <a href=\"https://ipywidgets.readthedocs.io/en/stable/user_install.html\">Jupyter\n",
       "  Widgets Documentation</a> for setup instructions.\n",
       "</p>\n",
       "<p>\n",
       "  If you're reading this message in another frontend (for example, a static\n",
       "  rendering on GitHub or <a href=\"https://nbviewer.jupyter.org/\">NBViewer</a>),\n",
       "  it may mean that your frontend doesn't currently support widgets.\n",
       "</p>\n"
      ],
      "text/plain": [
       "VBox(children=(HTML(value=''), IntProgress(value=0, max=115200)))"
      ]
     },
     "metadata": {},
     "output_type": "display_data"
    },
    {
     "data": {
      "application/vnd.jupyter.widget-view+json": {
       "model_id": "5c2129ac78f844b4ac9bdd58ac092379",
       "version_major": 2,
       "version_minor": 0
      },
      "text/html": [
       "<p>Failed to display Jupyter Widget of type <code>VBox</code>.</p>\n",
       "<p>\n",
       "  If you're reading this message in the Jupyter Notebook or JupyterLab Notebook, it may mean\n",
       "  that the widgets JavaScript is still loading. If this message persists, it\n",
       "  likely means that the widgets JavaScript library is either not installed or\n",
       "  not enabled. See the <a href=\"https://ipywidgets.readthedocs.io/en/stable/user_install.html\">Jupyter\n",
       "  Widgets Documentation</a> for setup instructions.\n",
       "</p>\n",
       "<p>\n",
       "  If you're reading this message in another frontend (for example, a static\n",
       "  rendering on GitHub or <a href=\"https://nbviewer.jupyter.org/\">NBViewer</a>),\n",
       "  it may mean that your frontend doesn't currently support widgets.\n",
       "</p>\n"
      ],
      "text/plain": [
       "VBox(children=(HTML(value=''), IntProgress(value=0, max=115200)))"
      ]
     },
     "metadata": {},
     "output_type": "display_data"
    },
    {
     "data": {
      "application/vnd.jupyter.widget-view+json": {
       "model_id": "7151127cb6154d8283fa751cd7f28414",
       "version_major": 2,
       "version_minor": 0
      },
      "text/html": [
       "<p>Failed to display Jupyter Widget of type <code>VBox</code>.</p>\n",
       "<p>\n",
       "  If you're reading this message in the Jupyter Notebook or JupyterLab Notebook, it may mean\n",
       "  that the widgets JavaScript is still loading. If this message persists, it\n",
       "  likely means that the widgets JavaScript library is either not installed or\n",
       "  not enabled. See the <a href=\"https://ipywidgets.readthedocs.io/en/stable/user_install.html\">Jupyter\n",
       "  Widgets Documentation</a> for setup instructions.\n",
       "</p>\n",
       "<p>\n",
       "  If you're reading this message in another frontend (for example, a static\n",
       "  rendering on GitHub or <a href=\"https://nbviewer.jupyter.org/\">NBViewer</a>),\n",
       "  it may mean that your frontend doesn't currently support widgets.\n",
       "</p>\n"
      ],
      "text/plain": [
       "VBox(children=(HTML(value=''), IntProgress(value=0, max=115200)))"
      ]
     },
     "metadata": {},
     "output_type": "display_data"
    },
    {
     "data": {
      "application/vnd.jupyter.widget-view+json": {
       "model_id": "1f1eed12aedc4174a9b239175c0f516d",
       "version_major": 2,
       "version_minor": 0
      },
      "text/html": [
       "<p>Failed to display Jupyter Widget of type <code>VBox</code>.</p>\n",
       "<p>\n",
       "  If you're reading this message in the Jupyter Notebook or JupyterLab Notebook, it may mean\n",
       "  that the widgets JavaScript is still loading. If this message persists, it\n",
       "  likely means that the widgets JavaScript library is either not installed or\n",
       "  not enabled. See the <a href=\"https://ipywidgets.readthedocs.io/en/stable/user_install.html\">Jupyter\n",
       "  Widgets Documentation</a> for setup instructions.\n",
       "</p>\n",
       "<p>\n",
       "  If you're reading this message in another frontend (for example, a static\n",
       "  rendering on GitHub or <a href=\"https://nbviewer.jupyter.org/\">NBViewer</a>),\n",
       "  it may mean that your frontend doesn't currently support widgets.\n",
       "</p>\n"
      ],
      "text/plain": [
       "VBox(children=(HTML(value=''), IntProgress(value=0, max=115200)))"
      ]
     },
     "metadata": {},
     "output_type": "display_data"
    },
    {
     "data": {
      "application/vnd.jupyter.widget-view+json": {
       "model_id": "270e0a0c4d3648f2b1e7e4bf1df83e1e",
       "version_major": 2,
       "version_minor": 0
      },
      "text/html": [
       "<p>Failed to display Jupyter Widget of type <code>VBox</code>.</p>\n",
       "<p>\n",
       "  If you're reading this message in the Jupyter Notebook or JupyterLab Notebook, it may mean\n",
       "  that the widgets JavaScript is still loading. If this message persists, it\n",
       "  likely means that the widgets JavaScript library is either not installed or\n",
       "  not enabled. See the <a href=\"https://ipywidgets.readthedocs.io/en/stable/user_install.html\">Jupyter\n",
       "  Widgets Documentation</a> for setup instructions.\n",
       "</p>\n",
       "<p>\n",
       "  If you're reading this message in another frontend (for example, a static\n",
       "  rendering on GitHub or <a href=\"https://nbviewer.jupyter.org/\">NBViewer</a>),\n",
       "  it may mean that your frontend doesn't currently support widgets.\n",
       "</p>\n"
      ],
      "text/plain": [
       "VBox(children=(HTML(value=''), IntProgress(value=0, max=115200)))"
      ]
     },
     "metadata": {},
     "output_type": "display_data"
    },
    {
     "data": {
      "application/vnd.jupyter.widget-view+json": {
       "model_id": "5f05ade213a242b0b9664ba751034eb9",
       "version_major": 2,
       "version_minor": 0
      },
      "text/html": [
       "<p>Failed to display Jupyter Widget of type <code>VBox</code>.</p>\n",
       "<p>\n",
       "  If you're reading this message in the Jupyter Notebook or JupyterLab Notebook, it may mean\n",
       "  that the widgets JavaScript is still loading. If this message persists, it\n",
       "  likely means that the widgets JavaScript library is either not installed or\n",
       "  not enabled. See the <a href=\"https://ipywidgets.readthedocs.io/en/stable/user_install.html\">Jupyter\n",
       "  Widgets Documentation</a> for setup instructions.\n",
       "</p>\n",
       "<p>\n",
       "  If you're reading this message in another frontend (for example, a static\n",
       "  rendering on GitHub or <a href=\"https://nbviewer.jupyter.org/\">NBViewer</a>),\n",
       "  it may mean that your frontend doesn't currently support widgets.\n",
       "</p>\n"
      ],
      "text/plain": [
       "VBox(children=(HTML(value=''), IntProgress(value=0, max=115200)))"
      ]
     },
     "metadata": {},
     "output_type": "display_data"
    }
   ],
   "source": [
    "# %%notify\n",
    "# https://github.com/shoprunner/jupyter-notify\n",
    "\n",
    "\n",
    "def createsummarycsv(ndim, fid, cases):\n",
    "    all_records = []\n",
    "    for configuration, iid, rep in log_progress(cases, every=100, name='{}D F{}'.format(ndim, fid)):\n",
    "        try:\n",
    "            record = createSteepnessRecord(configuration, ndim, fid, iid, rep)\n",
    "            all_records.append(record)\n",
    "        except FileNotFoundError:\n",
    "            pass\n",
    "        except OSError:\n",
    "            pass\n",
    "\n",
    "    df = pd.DataFrame.from_records(all_records, columns=record_labels)\n",
    "    df.to_csv('steepness_data_{}D-f{}.csv'.format(ndim, fid))\n",
    "\n",
    "\n",
    "from IPython.lib import backgroundjobs as bg\n",
    "os.chdir(data_location)\n",
    "\n",
    "cases = list(product(all_configurations, instances, list(range(num_repetitions))))\n",
    "num_cases = len(all_configurations)*len(ndims)*len(fids)*len(instances)*num_repetitions\n",
    "print('Found {} cases to process. This may take a while...'.format(num_cases))\n",
    "\n",
    "jobs = bg.BackgroundJobManager()\n",
    "\n",
    "for ndim, fid in product(ndims, fids):\n",
    "    jobs.new(createsummarycsv, ndim, fid, cases)"
   ]
  },
  {
   "cell_type": "markdown",
   "metadata": {},
   "source": [
    "And we're done. Now we have the pre-processed CSV files to work with instead, which we will do in another Notebook for clarity's sake.\n",
    "\n",
    "Of course, if the data in the CSVs has to be changed, this script has to be run again."
   ]
  }
 ],
 "metadata": {
  "kernelspec": {
   "display_name": "Python 2",
   "language": "python",
   "name": "python2"
  },
  "language_info": {
   "codemirror_mode": {
    "name": "ipython",
    "version": 3
   },
   "file_extension": ".py",
   "mimetype": "text/x-python",
   "name": "python",
   "nbconvert_exporter": "python",
   "pygments_lexer": "ipython3",
   "version": "3.6.3"
  },
  "toc": {
   "nav_menu": {},
   "number_sections": true,
   "sideBar": true,
   "skip_h1_title": false,
   "toc_cell": false,
   "toc_position": {},
   "toc_section_display": "block",
   "toc_window_display": false
  }
 },
 "nbformat": 4,
 "nbformat_minor": 1
}
